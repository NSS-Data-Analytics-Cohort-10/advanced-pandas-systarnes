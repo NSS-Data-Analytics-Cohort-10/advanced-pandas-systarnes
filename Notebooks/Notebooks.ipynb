{
 "cells": [
  {
   "cell_type": "code",
   "execution_count": 1,
   "id": "9810dd88",
   "metadata": {},
   "outputs": [],
   "source": [
    "import pandas as pd\n"
   ]
  },
  {
   "cell_type": "code",
   "execution_count": 2,
   "id": "33e507a5",
   "metadata": {},
   "outputs": [],
   "source": [
    "data = pd.read_excel(\"../data/Historic_Nashville_City_Cemetery_Interments__1846-1979.xlsx\")"
   ]
  },
  {
   "cell_type": "code",
   "execution_count": 6,
   "id": "3e62a58b",
   "metadata": {},
   "outputs": [],
   "source": [
    "import os\n"
   ]
  },
  {
   "cell_type": "code",
   "execution_count": 7,
   "id": "0c1efaf0",
   "metadata": {},
   "outputs": [
    {
     "name": "stdout",
     "output_type": "stream",
     "text": [
      "C:\\Users\\sstar\\Documents\\gdp-and-internet-usage-systarnes\\notebooks\n"
     ]
    }
   ],
   "source": [
    "print(os.getcwd())"
   ]
  },
  {
   "cell_type": "code",
   "execution_count": 10,
   "id": "3debf9d8",
   "metadata": {},
   "outputs": [
    {
     "name": "stdout",
     "output_type": "stream",
     "text": [
      "Index(['Volume', 'Name', 'Burial Month', 'Month No.', 'Burial Day',\n",
      "       'Burial Year', 'Sex', 'Race', 'Age', 'Residence',\n",
      "       'Cause of Death/Burial', 'Ave', 'Section/Lot', 'Remarks'],\n",
      "      dtype='object')\n"
     ]
    }
   ],
   "source": [
    "print(data.columns)"
   ]
  },
  {
   "cell_type": "code",
   "execution_count": 11,
   "id": "c9d1a662",
   "metadata": {},
   "outputs": [
    {
     "name": "stdout",
     "output_type": "stream",
     "text": [
      "Column Names:\n"
     ]
    }
   ],
   "source": [
    "print(\"Column Names:\")"
   ]
  },
  {
   "cell_type": "markdown",
   "id": "c8a1f023",
   "metadata": {},
   "source": [
    "#2a Find the 10 Most Common Causes of Death"
   ]
  },
  {
   "cell_type": "code",
   "execution_count": 19,
   "id": "069bcc92",
   "metadata": {},
   "outputs": [
    {
     "data": {
      "text/plain": [
       "Consumption        1767\n",
       "Unknown            1260\n",
       "Still Born          841\n",
       "Cholrea             667\n",
       "Not Known           639\n",
       "                   ... \n",
       "Fall from Horse       1\n",
       "Tonsilitis            1\n",
       "Diph Croup            1\n",
       "Genl Dibility         1\n",
       "Accidental fall       1\n",
       "Name: Cause of Death/Burial, Length: 2208, dtype: int64"
      ]
     },
     "execution_count": 19,
     "metadata": {},
     "output_type": "execute_result"
    }
   ],
   "source": [
    "cause_of_death = data['Cause of Death/Burial'].value_counts()\n",
    "cause_of_death"
   ]
  },
  {
   "cell_type": "code",
   "execution_count": 20,
   "id": "85e0af37",
   "metadata": {},
   "outputs": [
    {
     "data": {
      "text/plain": [
       "Consumption    1767\n",
       "Unknown        1260\n",
       "Still Born      841\n",
       "Cholrea         667\n",
       "Not Known       639\n",
       "Name: Cause of Death/Burial, dtype: int64"
      ]
     },
     "execution_count": 20,
     "metadata": {},
     "output_type": "execute_result"
    }
   ],
   "source": [
    "cause_of_death.head()"
   ]
  },
  {
   "cell_type": "code",
   "execution_count": 21,
   "id": "9a90fc28",
   "metadata": {},
   "outputs": [
    {
     "data": {
      "text/plain": [
       "Fall from Horse    1\n",
       "Tonsilitis         1\n",
       "Diph Croup         1\n",
       "Genl Dibility      1\n",
       "Accidental fall    1\n",
       "Name: Cause of Death/Burial, dtype: int64"
      ]
     },
     "execution_count": 21,
     "metadata": {},
     "output_type": "execute_result"
    }
   ],
   "source": [
    "cause_of_death.tail()"
   ]
  },
  {
   "cell_type": "markdown",
   "id": "dd02795c",
   "metadata": {},
   "source": [
    "#2b Clean up some of the misspellings\n",
    "#2c After corrected spellings, find the 10 most common causes of death\n"
   ]
  },
  {
   "cell_type": "markdown",
   "id": "9669d180",
   "metadata": {},
   "source": [
    "#3 Create a line chart showing the number of burials per year"
   ]
  }
 ],
 "metadata": {
  "kernelspec": {
   "display_name": "Python 3 (ipykernel)",
   "language": "python",
   "name": "python3"
  },
  "language_info": {
   "codemirror_mode": {
    "name": "ipython",
    "version": 3
   },
   "file_extension": ".py",
   "mimetype": "text/x-python",
   "name": "python",
   "nbconvert_exporter": "python",
   "pygments_lexer": "ipython3",
   "version": "3.11.4"
  }
 },
 "nbformat": 4,
 "nbformat_minor": 5
}
